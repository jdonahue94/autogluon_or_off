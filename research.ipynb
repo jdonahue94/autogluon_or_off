{
 "cells": [
  {
   "cell_type": "code",
   "execution_count": 7,
   "metadata": {},
   "outputs": [],
   "source": [
    "# Import necessary libraries\n",
    "import pandas as pd\n",
    "import numpy as np\n",
    "from xgboost import XGBClassifier\n",
    "from sklearn.model_selection import train_test_split, GridSearchCV\n",
    "from sklearn.metrics import accuracy_score, precision_score, recall_score, f1_score, roc_auc_score\n",
    "from sklearn.preprocessing import OneHotEncoder\n",
    "from sklearn.compose import ColumnTransformer\n",
    "from sklearn.pipeline import Pipeline\n",
    "from autogluon.tabular import TabularPredictor\n",
    "\n",
    "# Data Preparation\n",
    "## Load the dataset\n",
    "url = \"https://archive.ics.uci.edu/ml/machine-learning-databases/adult/adult.data\"\n",
    "columns = [\n",
    "    \"age\", \"workclass\", \"fnlwgt\", \"education\", \"education-num\",\n",
    "    \"marital-status\", \"occupation\", \"relationship\", \"race\", \"sex\",\n",
    "    \"capital-gain\", \"capital-loss\", \"hours-per-week\", \"native-country\", \"income\"\n",
    "]\n",
    "data = pd.read_csv(url, names=columns, header=None, skipinitialspace=True, na_values=\"?\")\n",
    "data.dropna(inplace=True)"
   ]
  },
  {
   "cell_type": "code",
   "execution_count": 8,
   "metadata": {},
   "outputs": [],
   "source": [
    "## Convert the income to binary\n",
    "data['income'] = data['income'].apply(lambda x: 1 if x.strip().endswith('>50K') else 0)\n",
    "\n",
    "## Split the data\n",
    "X = data.drop('income', axis=1)\n",
    "y = data['income']\n",
    "X_train, X_test, y_train, y_test = train_test_split(X, y, test_size=0.2, random_state=42, stratify=y)"
   ]
  },
  {
   "cell_type": "code",
   "execution_count": null,
   "metadata": {},
   "outputs": [],
   "source": [
    "# Model Training: XGBoost with Default Parameters\n",
    "categorical_cols = X.select_dtypes(include=['object']).columns.tolist()\n",
    "categorical_transformer = Pipeline(steps=[\n",
    "    ('onehot', OneHotEncoder(handle_unknown='ignore'))\n",
    "])\n",
    "preprocessor = ColumnTransformer(\n",
    "    transformers=[\n",
    "        ('cat', categorical_transformer, categorical_cols),\n",
    "        ('num', 'passthrough', [col for col in X.columns if col not in categorical_cols])\n",
    "    ])\n",
    "xgb_default_pipeline = Pipeline(steps=[\n",
    "    ('preprocessor', preprocessor),\n",
    "    ('classifier', XGBClassifier(use_label_encoder=False, eval_metric='logloss'))\n",
    "])\n",
    "xgb_default_pipeline.fit(X_train, y_train)"
   ]
  },
  {
   "cell_type": "code",
   "execution_count": null,
   "metadata": {},
   "outputs": [],
   "source": [
    "# Model training: XGBoost with Hypertuned Parameters\n",
    "parameters = {\n",
    "    'classifier__max_depth': [3, 5, 7],\n",
    "    'classifier__learning_rate': [0.01, 0.1, 0.2],\n",
    "    'classifier__n_estimators': [100, 200],\n",
    "    'classifier__subsample': [0.8, 1]\n",
    "}\n",
    "xgb_hypertuned_pipeline = GridSearchCV(xgb_default_pipeline, parameters, cv=3, scoring='accuracy')\n",
    "xgb_hypertuned_pipeline.fit(X_train, y_train)"
   ]
  },
  {
   "cell_type": "code",
   "execution_count": null,
   "metadata": {},
   "outputs": [],
   "source": [
    "# model training: AutoGluon\n",
    "ag_model = TabularPredictor(label='income').fit(train_data=X_train.join(y_train), presets='medium_quality_faster_train')"
   ]
  },
  {
   "cell_type": "code",
   "execution_count": 12,
   "metadata": {},
   "outputs": [],
   "source": [
    "def evaluate_model(model, X_test, y_test, model_name=\"\"):\n",
    "    # Predictions\n",
    "    predictions = model.predict(X_test)\n",
    "\n",
    "    # Handling probability prediction for AUC computation\n",
    "    try:\n",
    "        if hasattr(model, 'predict_proba'):\n",
    "            probabilities = model.predict_proba(X_test)[:, 1]  # Standard way for most models\n",
    "        elif 'AutoGluon' in model_name:\n",
    "            # AutoGluon specific: getting the positive class probabilities\n",
    "            probabilities = model.predict_proba(X_test).iloc[:, 1]\n",
    "        else:\n",
    "            probabilities = None\n",
    "\n",
    "        if probabilities is not None:\n",
    "            auc_score = roc_auc_score(y_test, probabilities)\n",
    "        else:\n",
    "            auc_score = 'N/A'\n",
    "    except Exception as e:\n",
    "        print(f\"Error computing AUC for {model_name}: {e}\")\n",
    "        auc_score = 'N/A'\n",
    "\n",
    "    # Metrics calculation\n",
    "    metrics = {\n",
    "        'Accuracy': accuracy_score(y_test, predictions),\n",
    "        'Precision': precision_score(y_test, predictions),\n",
    "        'Recall': recall_score(y_test, predictions),\n",
    "        'F1 Score': f1_score(y_test, predictions),\n",
    "        'AUC Score': auc_score\n",
    "    }\n",
    "    return metrics\n"
   ]
  },
  {
   "cell_type": "code",
   "execution_count": 13,
   "metadata": {},
   "outputs": [
    {
     "name": "stdout",
     "output_type": "stream",
     "text": [
      "Error computing AUC for : '(slice(None, None, None), 1)' is an invalid key\n",
      "Performance Comparison:\n",
      "                    Accuracy Precision    Recall  F1 Score AUC Score\n",
      "XGBoost Default     0.863749  0.763975  0.655126  0.705376  0.923941\n",
      "XGBoost Hypertuned  0.866733  0.780096  0.647137  0.707424  0.925195\n",
      "AutoGluon           0.865407   0.77512  0.647137   0.70537       N/A\n"
     ]
    }
   ],
   "source": [
    "# present results\n",
    "results = pd.DataFrame({\n",
    "    'XGBoost Default': evaluate_model(xgb_default_pipeline, X_test, y_test),\n",
    "    'XGBoost Hypertuned': evaluate_model(xgb_hypertuned_pipeline.best_estimator_, X_test, y_test),\n",
    "    'AutoGluon': evaluate_model(ag_model, X_test, y_test)\n",
    "}).T\n",
    "\n",
    "print(\"Performance Comparison:\")\n",
    "print(results)"
   ]
  },
  {
   "cell_type": "code",
   "execution_count": null,
   "metadata": {},
   "outputs": [],
   "source": []
  }
 ],
 "metadata": {
  "kernelspec": {
   "display_name": "base",
   "language": "python",
   "name": "python3"
  },
  "language_info": {
   "codemirror_mode": {
    "name": "ipython",
    "version": 3
   },
   "file_extension": ".py",
   "mimetype": "text/x-python",
   "name": "python",
   "nbconvert_exporter": "python",
   "pygments_lexer": "ipython3",
   "version": "3.9.18"
  }
 },
 "nbformat": 4,
 "nbformat_minor": 2
}
